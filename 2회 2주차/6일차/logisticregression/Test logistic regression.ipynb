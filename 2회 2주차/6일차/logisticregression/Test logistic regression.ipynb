{
 "cells": [
  {
   "cell_type": "code",
   "execution_count": null,
   "metadata": {},
   "outputs": [],
   "source": [
    "import numpy as np\n",
    "from sklearn import datasets\n",
    "\n",
    "#GD를 활용한 LogisticRegression\n",
    "class LogisticRegression:\n",
    "    def __init__(self, learning_rate=0.01, threshold=0.01, max_iterations=100000, fit_intercept=True, verbose=False):\n",
    "        self._learning_rate = learning_rate  # 학습 계수\n",
    "        self._max_iterations = max_iterations  # 반복 횟수\n",
    "        self._threshold = threshold  # 학습 중단 계수\n",
    "        self._fit_intercept = fit_intercept  # 절편 사용 여부를 결정\n",
    "        self._verbose = verbose  # 중간 진행사항 출력 여부\n",
    "\n",
    "    # theta(W) 계수들 return\n",
    "    def get_coeff(self):\n",
    "        return self._W\n",
    "\n",
    "    # 절편 추가\n",
    "    def add_intercept(self, x_data):\n",
    "        intercept = np.ones((x_data.shape[0], 1))\n",
    "        return np.concatenate((intercept, x_data), axis=1)\n",
    "\n",
    "    # 시그모이드 함수(로지스틱 함수)\n",
    "    def sigmoid(self, z):\n",
    "        return 1 / (1 + np.exp(-z))\n",
    "\n",
    "    def cost(self, h, y):##어떤뜻인지 파악하기(cost function에 대한 이해필요(GD,SGD 찾아보기))\n",
    "        return (-y * np.log(h) - (1 - y) * np.log(1 - h)).mean()\n",
    "\n",
    "    def fit(self, x_data, y_data):\n",
    "        num_examples, num_features = np.shape(x_data)\n",
    "\n",
    "        if self._fit_intercept:\n",
    "            x_data = self.add_intercept(x_data)\n",
    "\n",
    "        \n",
    "        self._W = np.zeros(x_data.shape[1])\n",
    "\n",
    "        for i in range(self._max_iterations):\n",
    "            z = np.dot(x_data, self._W)\n",
    "            hypothesis = self.sigmoid(z)\n",
    "\n",
    "            #실제값과 예측값의 차이\n",
    "            diff = hypothesis - y_data\n",
    "\n",
    "            cost = self.cost(hypothesis, y_data)\n",
    "\n",
    "            ##어떤 과정인지 설명하기\n",
    "            gradient = np.dot(x_data.transpose(), diff) / num_examples\n",
    "\n",
    "            \n",
    "            self._W -= self._learning_rate * gradient\n",
    "\n",
    "           \n",
    "            if cost < self._threshold:\n",
    "                return False\n",
    "\n",
    "           \n",
    "            if (self._verbose == True and i % 100 == 0):\n",
    "                print('cost :', cost)\n",
    "\n",
    "    def predict_prob(self, x_data):\n",
    "        if self._fit_intercept:\n",
    "            x_data = self.add_intercept(x_data)\n",
    "\n",
    "        return self.sigmoid(np.dot(x_data, self._W))\n",
    "\n",
    "    def predict(self, x_data):\n",
    "        \n",
    "        return self.predict_prob(x_data).round()##왜 라운드 함수를 쓰는지"
   ]
  },
  {
   "cell_type": "code",
   "execution_count": null,
   "metadata": {},
   "outputs": [],
   "source": [
    "pd.read_csv('Social_Network_Ads.csv')"
   ]
  },
  {
   "cell_type": "code",
   "execution_count": null,
   "metadata": {},
   "outputs": [],
   "source": []
  }
 ],
 "metadata": {
  "kernelspec": {
   "display_name": "text3.5",
   "language": "python",
   "name": "text3.5"
  },
  "language_info": {
   "codemirror_mode": {
    "name": "ipython",
    "version": 3
   },
   "file_extension": ".py",
   "mimetype": "text/x-python",
   "name": "python",
   "nbconvert_exporter": "python",
   "pygments_lexer": "ipython3",
   "version": "3.6.6"
  }
 },
 "nbformat": 4,
 "nbformat_minor": 2
}
